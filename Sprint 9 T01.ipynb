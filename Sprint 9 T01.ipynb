{
 "cells": [
  {
   "cell_type": "markdown",
   "id": "6421cb39",
   "metadata": {},
   "source": [
    "# S09 T01: Practicant amb training i test sets\n",
    "\n",
    "Descripció:\n",
    "\n",
    "Familiaritza't amb la programació científica mitjantçant la llibreria SKLearn / Scikitlearn.\n",
    "\n",
    "## NIVELL 1\n",
    "\n",
    "\n",
    "### Exercici 1\n",
    "Parteix el conjunt de dadesDelayedFlights.csv en train i test. Estudia els dos conjunts per separat, a nivell descriptiu.\n",
    "\n"
   ]
  },
  {
   "cell_type": "code",
   "execution_count": 1,
   "id": "91cb8922",
   "metadata": {
    "ExecuteTime": {
     "end_time": "2022-07-02T14:13:24.310776Z",
     "start_time": "2022-07-02T14:13:11.525083Z"
    }
   },
   "outputs": [
    {
     "data": {
      "text/html": [
       "<div>\n",
       "<style scoped>\n",
       "    .dataframe tbody tr th:only-of-type {\n",
       "        vertical-align: middle;\n",
       "    }\n",
       "\n",
       "    .dataframe tbody tr th {\n",
       "        vertical-align: top;\n",
       "    }\n",
       "\n",
       "    .dataframe thead th {\n",
       "        text-align: right;\n",
       "    }\n",
       "</style>\n",
       "<table border=\"1\" class=\"dataframe\">\n",
       "  <thead>\n",
       "    <tr style=\"text-align: right;\">\n",
       "      <th></th>\n",
       "      <th>Unnamed: 0</th>\n",
       "      <th>Year</th>\n",
       "      <th>Month</th>\n",
       "      <th>DayofMonth</th>\n",
       "      <th>DayOfWeek</th>\n",
       "      <th>DepTime</th>\n",
       "      <th>CRSDepTime</th>\n",
       "      <th>ArrTime</th>\n",
       "      <th>CRSArrTime</th>\n",
       "      <th>UniqueCarrier</th>\n",
       "      <th>...</th>\n",
       "      <th>TaxiIn</th>\n",
       "      <th>TaxiOut</th>\n",
       "      <th>Cancelled</th>\n",
       "      <th>CancellationCode</th>\n",
       "      <th>Diverted</th>\n",
       "      <th>CarrierDelay</th>\n",
       "      <th>WeatherDelay</th>\n",
       "      <th>NASDelay</th>\n",
       "      <th>SecurityDelay</th>\n",
       "      <th>LateAircraftDelay</th>\n",
       "    </tr>\n",
       "  </thead>\n",
       "  <tbody>\n",
       "    <tr>\n",
       "      <th>3</th>\n",
       "      <td>4</td>\n",
       "      <td>2008</td>\n",
       "      <td>1</td>\n",
       "      <td>3</td>\n",
       "      <td>4</td>\n",
       "      <td>1829.0</td>\n",
       "      <td>1755</td>\n",
       "      <td>1959.0</td>\n",
       "      <td>1925</td>\n",
       "      <td>WN</td>\n",
       "      <td>...</td>\n",
       "      <td>3.0</td>\n",
       "      <td>10.0</td>\n",
       "      <td>0</td>\n",
       "      <td>N</td>\n",
       "      <td>0</td>\n",
       "      <td>2.0</td>\n",
       "      <td>0.0</td>\n",
       "      <td>0.0</td>\n",
       "      <td>0.0</td>\n",
       "      <td>32.0</td>\n",
       "    </tr>\n",
       "    <tr>\n",
       "      <th>5</th>\n",
       "      <td>6</td>\n",
       "      <td>2008</td>\n",
       "      <td>1</td>\n",
       "      <td>3</td>\n",
       "      <td>4</td>\n",
       "      <td>1937.0</td>\n",
       "      <td>1830</td>\n",
       "      <td>2037.0</td>\n",
       "      <td>1940</td>\n",
       "      <td>WN</td>\n",
       "      <td>...</td>\n",
       "      <td>3.0</td>\n",
       "      <td>7.0</td>\n",
       "      <td>0</td>\n",
       "      <td>N</td>\n",
       "      <td>0</td>\n",
       "      <td>10.0</td>\n",
       "      <td>0.0</td>\n",
       "      <td>0.0</td>\n",
       "      <td>0.0</td>\n",
       "      <td>47.0</td>\n",
       "    </tr>\n",
       "    <tr>\n",
       "      <th>7</th>\n",
       "      <td>11</td>\n",
       "      <td>2008</td>\n",
       "      <td>1</td>\n",
       "      <td>3</td>\n",
       "      <td>4</td>\n",
       "      <td>1644.0</td>\n",
       "      <td>1510</td>\n",
       "      <td>1845.0</td>\n",
       "      <td>1725</td>\n",
       "      <td>WN</td>\n",
       "      <td>...</td>\n",
       "      <td>6.0</td>\n",
       "      <td>8.0</td>\n",
       "      <td>0</td>\n",
       "      <td>N</td>\n",
       "      <td>0</td>\n",
       "      <td>8.0</td>\n",
       "      <td>0.0</td>\n",
       "      <td>0.0</td>\n",
       "      <td>0.0</td>\n",
       "      <td>72.0</td>\n",
       "    </tr>\n",
       "    <tr>\n",
       "      <th>9</th>\n",
       "      <td>16</td>\n",
       "      <td>2008</td>\n",
       "      <td>1</td>\n",
       "      <td>3</td>\n",
       "      <td>4</td>\n",
       "      <td>1452.0</td>\n",
       "      <td>1425</td>\n",
       "      <td>1640.0</td>\n",
       "      <td>1625</td>\n",
       "      <td>WN</td>\n",
       "      <td>...</td>\n",
       "      <td>7.0</td>\n",
       "      <td>8.0</td>\n",
       "      <td>0</td>\n",
       "      <td>N</td>\n",
       "      <td>0</td>\n",
       "      <td>3.0</td>\n",
       "      <td>0.0</td>\n",
       "      <td>0.0</td>\n",
       "      <td>0.0</td>\n",
       "      <td>12.0</td>\n",
       "    </tr>\n",
       "    <tr>\n",
       "      <th>11</th>\n",
       "      <td>18</td>\n",
       "      <td>2008</td>\n",
       "      <td>1</td>\n",
       "      <td>3</td>\n",
       "      <td>4</td>\n",
       "      <td>1323.0</td>\n",
       "      <td>1255</td>\n",
       "      <td>1526.0</td>\n",
       "      <td>1510</td>\n",
       "      <td>WN</td>\n",
       "      <td>...</td>\n",
       "      <td>4.0</td>\n",
       "      <td>9.0</td>\n",
       "      <td>0</td>\n",
       "      <td>N</td>\n",
       "      <td>0</td>\n",
       "      <td>0.0</td>\n",
       "      <td>0.0</td>\n",
       "      <td>0.0</td>\n",
       "      <td>0.0</td>\n",
       "      <td>16.0</td>\n",
       "    </tr>\n",
       "    <tr>\n",
       "      <th>...</th>\n",
       "      <td>...</td>\n",
       "      <td>...</td>\n",
       "      <td>...</td>\n",
       "      <td>...</td>\n",
       "      <td>...</td>\n",
       "      <td>...</td>\n",
       "      <td>...</td>\n",
       "      <td>...</td>\n",
       "      <td>...</td>\n",
       "      <td>...</td>\n",
       "      <td>...</td>\n",
       "      <td>...</td>\n",
       "      <td>...</td>\n",
       "      <td>...</td>\n",
       "      <td>...</td>\n",
       "      <td>...</td>\n",
       "      <td>...</td>\n",
       "      <td>...</td>\n",
       "      <td>...</td>\n",
       "      <td>...</td>\n",
       "      <td>...</td>\n",
       "    </tr>\n",
       "    <tr>\n",
       "      <th>1936751</th>\n",
       "      <td>7009705</td>\n",
       "      <td>2008</td>\n",
       "      <td>12</td>\n",
       "      <td>13</td>\n",
       "      <td>6</td>\n",
       "      <td>921.0</td>\n",
       "      <td>830</td>\n",
       "      <td>1112.0</td>\n",
       "      <td>1008</td>\n",
       "      <td>DL</td>\n",
       "      <td>...</td>\n",
       "      <td>8.0</td>\n",
       "      <td>21.0</td>\n",
       "      <td>0</td>\n",
       "      <td>N</td>\n",
       "      <td>0</td>\n",
       "      <td>51.0</td>\n",
       "      <td>0.0</td>\n",
       "      <td>13.0</td>\n",
       "      <td>0.0</td>\n",
       "      <td>0.0</td>\n",
       "    </tr>\n",
       "    <tr>\n",
       "      <th>1936752</th>\n",
       "      <td>7009709</td>\n",
       "      <td>2008</td>\n",
       "      <td>12</td>\n",
       "      <td>13</td>\n",
       "      <td>6</td>\n",
       "      <td>1552.0</td>\n",
       "      <td>1520</td>\n",
       "      <td>1735.0</td>\n",
       "      <td>1718</td>\n",
       "      <td>DL</td>\n",
       "      <td>...</td>\n",
       "      <td>9.0</td>\n",
       "      <td>7.0</td>\n",
       "      <td>0</td>\n",
       "      <td>N</td>\n",
       "      <td>0</td>\n",
       "      <td>0.0</td>\n",
       "      <td>0.0</td>\n",
       "      <td>0.0</td>\n",
       "      <td>0.0</td>\n",
       "      <td>17.0</td>\n",
       "    </tr>\n",
       "    <tr>\n",
       "      <th>1936753</th>\n",
       "      <td>7009710</td>\n",
       "      <td>2008</td>\n",
       "      <td>12</td>\n",
       "      <td>13</td>\n",
       "      <td>6</td>\n",
       "      <td>1250.0</td>\n",
       "      <td>1220</td>\n",
       "      <td>1617.0</td>\n",
       "      <td>1552</td>\n",
       "      <td>DL</td>\n",
       "      <td>...</td>\n",
       "      <td>9.0</td>\n",
       "      <td>18.0</td>\n",
       "      <td>0</td>\n",
       "      <td>N</td>\n",
       "      <td>0</td>\n",
       "      <td>3.0</td>\n",
       "      <td>0.0</td>\n",
       "      <td>0.0</td>\n",
       "      <td>0.0</td>\n",
       "      <td>22.0</td>\n",
       "    </tr>\n",
       "    <tr>\n",
       "      <th>1936754</th>\n",
       "      <td>7009717</td>\n",
       "      <td>2008</td>\n",
       "      <td>12</td>\n",
       "      <td>13</td>\n",
       "      <td>6</td>\n",
       "      <td>657.0</td>\n",
       "      <td>600</td>\n",
       "      <td>904.0</td>\n",
       "      <td>749</td>\n",
       "      <td>DL</td>\n",
       "      <td>...</td>\n",
       "      <td>15.0</td>\n",
       "      <td>34.0</td>\n",
       "      <td>0</td>\n",
       "      <td>N</td>\n",
       "      <td>0</td>\n",
       "      <td>0.0</td>\n",
       "      <td>57.0</td>\n",
       "      <td>18.0</td>\n",
       "      <td>0.0</td>\n",
       "      <td>0.0</td>\n",
       "    </tr>\n",
       "    <tr>\n",
       "      <th>1936755</th>\n",
       "      <td>7009718</td>\n",
       "      <td>2008</td>\n",
       "      <td>12</td>\n",
       "      <td>13</td>\n",
       "      <td>6</td>\n",
       "      <td>1007.0</td>\n",
       "      <td>847</td>\n",
       "      <td>1149.0</td>\n",
       "      <td>1010</td>\n",
       "      <td>DL</td>\n",
       "      <td>...</td>\n",
       "      <td>8.0</td>\n",
       "      <td>32.0</td>\n",
       "      <td>0</td>\n",
       "      <td>N</td>\n",
       "      <td>0</td>\n",
       "      <td>1.0</td>\n",
       "      <td>0.0</td>\n",
       "      <td>19.0</td>\n",
       "      <td>0.0</td>\n",
       "      <td>79.0</td>\n",
       "    </tr>\n",
       "  </tbody>\n",
       "</table>\n",
       "<p>1247486 rows × 30 columns</p>\n",
       "</div>"
      ],
      "text/plain": [
       "         Unnamed: 0  Year  Month  DayofMonth  DayOfWeek  DepTime  CRSDepTime  \\\n",
       "3                 4  2008      1           3          4   1829.0        1755   \n",
       "5                 6  2008      1           3          4   1937.0        1830   \n",
       "7                11  2008      1           3          4   1644.0        1510   \n",
       "9                16  2008      1           3          4   1452.0        1425   \n",
       "11               18  2008      1           3          4   1323.0        1255   \n",
       "...             ...   ...    ...         ...        ...      ...         ...   \n",
       "1936751     7009705  2008     12          13          6    921.0         830   \n",
       "1936752     7009709  2008     12          13          6   1552.0        1520   \n",
       "1936753     7009710  2008     12          13          6   1250.0        1220   \n",
       "1936754     7009717  2008     12          13          6    657.0         600   \n",
       "1936755     7009718  2008     12          13          6   1007.0         847   \n",
       "\n",
       "         ArrTime  CRSArrTime UniqueCarrier  ...  TaxiIn TaxiOut  Cancelled  \\\n",
       "3         1959.0        1925            WN  ...     3.0    10.0          0   \n",
       "5         2037.0        1940            WN  ...     3.0     7.0          0   \n",
       "7         1845.0        1725            WN  ...     6.0     8.0          0   \n",
       "9         1640.0        1625            WN  ...     7.0     8.0          0   \n",
       "11        1526.0        1510            WN  ...     4.0     9.0          0   \n",
       "...          ...         ...           ...  ...     ...     ...        ...   \n",
       "1936751   1112.0        1008            DL  ...     8.0    21.0          0   \n",
       "1936752   1735.0        1718            DL  ...     9.0     7.0          0   \n",
       "1936753   1617.0        1552            DL  ...     9.0    18.0          0   \n",
       "1936754    904.0         749            DL  ...    15.0    34.0          0   \n",
       "1936755   1149.0        1010            DL  ...     8.0    32.0          0   \n",
       "\n",
       "         CancellationCode  Diverted  CarrierDelay  WeatherDelay NASDelay  \\\n",
       "3                       N         0           2.0           0.0      0.0   \n",
       "5                       N         0          10.0           0.0      0.0   \n",
       "7                       N         0           8.0           0.0      0.0   \n",
       "9                       N         0           3.0           0.0      0.0   \n",
       "11                      N         0           0.0           0.0      0.0   \n",
       "...                   ...       ...           ...           ...      ...   \n",
       "1936751                 N         0          51.0           0.0     13.0   \n",
       "1936752                 N         0           0.0           0.0      0.0   \n",
       "1936753                 N         0           3.0           0.0      0.0   \n",
       "1936754                 N         0           0.0          57.0     18.0   \n",
       "1936755                 N         0           1.0           0.0     19.0   \n",
       "\n",
       "        SecurityDelay  LateAircraftDelay  \n",
       "3                 0.0               32.0  \n",
       "5                 0.0               47.0  \n",
       "7                 0.0               72.0  \n",
       "9                 0.0               12.0  \n",
       "11                0.0               16.0  \n",
       "...               ...                ...  \n",
       "1936751           0.0                0.0  \n",
       "1936752           0.0               17.0  \n",
       "1936753           0.0               22.0  \n",
       "1936754           0.0                0.0  \n",
       "1936755           0.0               79.0  \n",
       "\n",
       "[1247486 rows x 30 columns]"
      ]
     },
     "metadata": {},
     "output_type": "display_data"
    }
   ],
   "source": [
    "# Crido a les llibreries necessàries\n",
    "# Faig entrar l'arxiu CSV gràcies a pandas\n",
    "\n",
    "import pandas as pd\n",
    "import numpy as np\n",
    "import matplotlib.pyplot as plt\n",
    "import seaborn as sns\n",
    "\n",
    "delayedFlightsAmbNaN = pd.read_csv(r'C:\\Users\\Anna\\DataScience\\SPRINTS\\SPRINT 3\\Sprint 3 T01\\DelayedFlights\\DelayedFlights.csv')\n",
    "\n",
    "\n",
    "# Elimino els NaN per fer el dataset algo més petit\n",
    "delayedFlights = delayedFlightsAmbNaN.dropna()\n",
    "\n",
    "display(delayedFlights)\n"
   ]
  },
  {
   "cell_type": "code",
   "execution_count": 2,
   "id": "f06827ef",
   "metadata": {
    "ExecuteTime": {
     "end_time": "2022-07-02T14:13:24.725520Z",
     "start_time": "2022-07-02T14:13:24.312775Z"
    }
   },
   "outputs": [
    {
     "data": {
      "text/plain": [
       "Unnamed: 0           1247486\n",
       "Year                 1247486\n",
       "Month                1247486\n",
       "DayofMonth           1247486\n",
       "DayOfWeek            1247486\n",
       "DepTime              1247486\n",
       "CRSDepTime           1247486\n",
       "ArrTime              1247486\n",
       "CRSArrTime           1247486\n",
       "UniqueCarrier        1247486\n",
       "FlightNum            1247486\n",
       "TailNum              1247486\n",
       "ActualElapsedTime    1247486\n",
       "CRSElapsedTime       1247486\n",
       "AirTime              1247486\n",
       "ArrDelay             1247486\n",
       "DepDelay             1247486\n",
       "Origin               1247486\n",
       "Dest                 1247486\n",
       "Distance             1247486\n",
       "TaxiIn               1247486\n",
       "TaxiOut              1247486\n",
       "Cancelled            1247486\n",
       "CancellationCode     1247486\n",
       "Diverted             1247486\n",
       "CarrierDelay         1247486\n",
       "WeatherDelay         1247486\n",
       "NASDelay             1247486\n",
       "SecurityDelay        1247486\n",
       "LateAircraftDelay    1247486\n",
       "dtype: int64"
      ]
     },
     "execution_count": 2,
     "metadata": {},
     "output_type": "execute_result"
    }
   ],
   "source": [
    "delayedFlights.count()"
   ]
  },
  {
   "cell_type": "code",
   "execution_count": 3,
   "id": "98e9e02d",
   "metadata": {
    "ExecuteTime": {
     "end_time": "2022-07-02T14:13:24.740511Z",
     "start_time": "2022-07-02T14:13:24.727519Z"
    }
   },
   "outputs": [
    {
     "data": {
      "text/plain": [
       "(1247486, 30)"
      ]
     },
     "execution_count": 3,
     "metadata": {},
     "output_type": "execute_result"
    }
   ],
   "source": [
    "delayedFlights.shape"
   ]
  },
  {
   "cell_type": "code",
   "execution_count": 4,
   "id": "b21d498f",
   "metadata": {
    "ExecuteTime": {
     "end_time": "2022-07-02T14:13:25.831892Z",
     "start_time": "2022-07-02T14:13:24.743512Z"
    }
   },
   "outputs": [
    {
     "data": {
      "text/html": [
       "<div>\n",
       "<style scoped>\n",
       "    .dataframe tbody tr th:only-of-type {\n",
       "        vertical-align: middle;\n",
       "    }\n",
       "\n",
       "    .dataframe tbody tr th {\n",
       "        vertical-align: top;\n",
       "    }\n",
       "\n",
       "    .dataframe thead th {\n",
       "        text-align: right;\n",
       "    }\n",
       "</style>\n",
       "<table border=\"1\" class=\"dataframe\">\n",
       "  <thead>\n",
       "    <tr style=\"text-align: right;\">\n",
       "      <th></th>\n",
       "      <th>Unnamed: 0</th>\n",
       "      <th>Year</th>\n",
       "      <th>Month</th>\n",
       "      <th>DayofMonth</th>\n",
       "      <th>DayOfWeek</th>\n",
       "      <th>DepTime</th>\n",
       "      <th>CRSDepTime</th>\n",
       "      <th>ArrTime</th>\n",
       "      <th>CRSArrTime</th>\n",
       "      <th>FlightNum</th>\n",
       "      <th>...</th>\n",
       "      <th>Distance</th>\n",
       "      <th>TaxiIn</th>\n",
       "      <th>TaxiOut</th>\n",
       "      <th>Cancelled</th>\n",
       "      <th>Diverted</th>\n",
       "      <th>CarrierDelay</th>\n",
       "      <th>WeatherDelay</th>\n",
       "      <th>NASDelay</th>\n",
       "      <th>SecurityDelay</th>\n",
       "      <th>LateAircraftDelay</th>\n",
       "    </tr>\n",
       "  </thead>\n",
       "  <tbody>\n",
       "    <tr>\n",
       "      <th>count</th>\n",
       "      <td>1.247486e+06</td>\n",
       "      <td>1247486.0</td>\n",
       "      <td>1.247486e+06</td>\n",
       "      <td>1.247486e+06</td>\n",
       "      <td>1.247486e+06</td>\n",
       "      <td>1.247486e+06</td>\n",
       "      <td>1.247486e+06</td>\n",
       "      <td>1.247486e+06</td>\n",
       "      <td>1.247486e+06</td>\n",
       "      <td>1.247486e+06</td>\n",
       "      <td>...</td>\n",
       "      <td>1.247486e+06</td>\n",
       "      <td>1.247486e+06</td>\n",
       "      <td>1.247486e+06</td>\n",
       "      <td>1247486.0</td>\n",
       "      <td>1247486.0</td>\n",
       "      <td>1.247486e+06</td>\n",
       "      <td>1.247486e+06</td>\n",
       "      <td>1.247486e+06</td>\n",
       "      <td>1.247486e+06</td>\n",
       "      <td>1.247486e+06</td>\n",
       "    </tr>\n",
       "    <tr>\n",
       "      <th>mean</th>\n",
       "      <td>3.319515e+06</td>\n",
       "      <td>2008.0</td>\n",
       "      <td>6.065399e+00</td>\n",
       "      <td>1.572542e+01</td>\n",
       "      <td>3.980082e+00</td>\n",
       "      <td>1.558832e+03</td>\n",
       "      <td>1.487949e+03</td>\n",
       "      <td>1.616749e+03</td>\n",
       "      <td>1.652458e+03</td>\n",
       "      <td>2.276526e+03</td>\n",
       "      <td>...</td>\n",
       "      <td>7.415867e+02</td>\n",
       "      <td>7.297232e+00</td>\n",
       "      <td>2.066033e+01</td>\n",
       "      <td>0.0</td>\n",
       "      <td>0.0</td>\n",
       "      <td>1.917943e+01</td>\n",
       "      <td>3.703355e+00</td>\n",
       "      <td>1.502162e+01</td>\n",
       "      <td>9.013728e-02</td>\n",
       "      <td>2.529649e+01</td>\n",
       "    </tr>\n",
       "    <tr>\n",
       "      <th>std</th>\n",
       "      <td>2.079531e+06</td>\n",
       "      <td>0.0</td>\n",
       "      <td>3.508937e+00</td>\n",
       "      <td>8.793008e+00</td>\n",
       "      <td>1.993270e+00</td>\n",
       "      <td>4.543300e+02</td>\n",
       "      <td>4.211782e+02</td>\n",
       "      <td>5.839416e+02</td>\n",
       "      <td>4.617372e+02</td>\n",
       "      <td>1.997547e+03</td>\n",
       "      <td>...</td>\n",
       "      <td>5.593643e+02</td>\n",
       "      <td>6.033239e+00</td>\n",
       "      <td>1.667983e+01</td>\n",
       "      <td>0.0</td>\n",
       "      <td>0.0</td>\n",
       "      <td>4.354624e+01</td>\n",
       "      <td>2.149153e+01</td>\n",
       "      <td>3.383308e+01</td>\n",
       "      <td>2.022716e+00</td>\n",
       "      <td>4.205489e+01</td>\n",
       "    </tr>\n",
       "    <tr>\n",
       "      <th>min</th>\n",
       "      <td>4.000000e+00</td>\n",
       "      <td>2008.0</td>\n",
       "      <td>1.000000e+00</td>\n",
       "      <td>1.000000e+00</td>\n",
       "      <td>1.000000e+00</td>\n",
       "      <td>1.000000e+00</td>\n",
       "      <td>0.000000e+00</td>\n",
       "      <td>1.000000e+00</td>\n",
       "      <td>0.000000e+00</td>\n",
       "      <td>1.000000e+00</td>\n",
       "      <td>...</td>\n",
       "      <td>1.100000e+01</td>\n",
       "      <td>0.000000e+00</td>\n",
       "      <td>0.000000e+00</td>\n",
       "      <td>0.0</td>\n",
       "      <td>0.0</td>\n",
       "      <td>0.000000e+00</td>\n",
       "      <td>0.000000e+00</td>\n",
       "      <td>0.000000e+00</td>\n",
       "      <td>0.000000e+00</td>\n",
       "      <td>0.000000e+00</td>\n",
       "    </tr>\n",
       "    <tr>\n",
       "      <th>25%</th>\n",
       "      <td>1.484624e+06</td>\n",
       "      <td>2008.0</td>\n",
       "      <td>3.000000e+00</td>\n",
       "      <td>8.000000e+00</td>\n",
       "      <td>2.000000e+00</td>\n",
       "      <td>1.232000e+03</td>\n",
       "      <td>1.150000e+03</td>\n",
       "      <td>1.326000e+03</td>\n",
       "      <td>1.340000e+03</td>\n",
       "      <td>6.370000e+02</td>\n",
       "      <td>...</td>\n",
       "      <td>3.340000e+02</td>\n",
       "      <td>4.000000e+00</td>\n",
       "      <td>1.100000e+01</td>\n",
       "      <td>0.0</td>\n",
       "      <td>0.0</td>\n",
       "      <td>0.000000e+00</td>\n",
       "      <td>0.000000e+00</td>\n",
       "      <td>0.000000e+00</td>\n",
       "      <td>0.000000e+00</td>\n",
       "      <td>0.000000e+00</td>\n",
       "    </tr>\n",
       "    <tr>\n",
       "      <th>50%</th>\n",
       "      <td>3.224052e+06</td>\n",
       "      <td>2008.0</td>\n",
       "      <td>6.000000e+00</td>\n",
       "      <td>1.600000e+01</td>\n",
       "      <td>4.000000e+00</td>\n",
       "      <td>1.618000e+03</td>\n",
       "      <td>1.529000e+03</td>\n",
       "      <td>1.737000e+03</td>\n",
       "      <td>1.722000e+03</td>\n",
       "      <td>1.589000e+03</td>\n",
       "      <td>...</td>\n",
       "      <td>5.950000e+02</td>\n",
       "      <td>6.000000e+00</td>\n",
       "      <td>1.600000e+01</td>\n",
       "      <td>0.0</td>\n",
       "      <td>0.0</td>\n",
       "      <td>2.000000e+00</td>\n",
       "      <td>0.000000e+00</td>\n",
       "      <td>2.000000e+00</td>\n",
       "      <td>0.000000e+00</td>\n",
       "      <td>8.000000e+00</td>\n",
       "    </tr>\n",
       "    <tr>\n",
       "      <th>75%</th>\n",
       "      <td>4.921396e+06</td>\n",
       "      <td>2008.0</td>\n",
       "      <td>9.000000e+00</td>\n",
       "      <td>2.300000e+01</td>\n",
       "      <td>6.000000e+00</td>\n",
       "      <td>1.924000e+03</td>\n",
       "      <td>1.830000e+03</td>\n",
       "      <td>2.048000e+03</td>\n",
       "      <td>2.022000e+03</td>\n",
       "      <td>3.676000e+03</td>\n",
       "      <td>...</td>\n",
       "      <td>9.720000e+02</td>\n",
       "      <td>8.000000e+00</td>\n",
       "      <td>2.400000e+01</td>\n",
       "      <td>0.0</td>\n",
       "      <td>0.0</td>\n",
       "      <td>2.100000e+01</td>\n",
       "      <td>0.000000e+00</td>\n",
       "      <td>1.500000e+01</td>\n",
       "      <td>0.000000e+00</td>\n",
       "      <td>3.300000e+01</td>\n",
       "    </tr>\n",
       "    <tr>\n",
       "      <th>max</th>\n",
       "      <td>7.009718e+06</td>\n",
       "      <td>2008.0</td>\n",
       "      <td>1.200000e+01</td>\n",
       "      <td>3.100000e+01</td>\n",
       "      <td>7.000000e+00</td>\n",
       "      <td>2.400000e+03</td>\n",
       "      <td>2.359000e+03</td>\n",
       "      <td>2.400000e+03</td>\n",
       "      <td>2.359000e+03</td>\n",
       "      <td>9.741000e+03</td>\n",
       "      <td>...</td>\n",
       "      <td>4.962000e+03</td>\n",
       "      <td>2.400000e+02</td>\n",
       "      <td>4.220000e+02</td>\n",
       "      <td>0.0</td>\n",
       "      <td>0.0</td>\n",
       "      <td>2.436000e+03</td>\n",
       "      <td>1.352000e+03</td>\n",
       "      <td>1.357000e+03</td>\n",
       "      <td>3.920000e+02</td>\n",
       "      <td>1.316000e+03</td>\n",
       "    </tr>\n",
       "  </tbody>\n",
       "</table>\n",
       "<p>8 rows × 25 columns</p>\n",
       "</div>"
      ],
      "text/plain": [
       "         Unnamed: 0       Year         Month    DayofMonth     DayOfWeek  \\\n",
       "count  1.247486e+06  1247486.0  1.247486e+06  1.247486e+06  1.247486e+06   \n",
       "mean   3.319515e+06     2008.0  6.065399e+00  1.572542e+01  3.980082e+00   \n",
       "std    2.079531e+06        0.0  3.508937e+00  8.793008e+00  1.993270e+00   \n",
       "min    4.000000e+00     2008.0  1.000000e+00  1.000000e+00  1.000000e+00   \n",
       "25%    1.484624e+06     2008.0  3.000000e+00  8.000000e+00  2.000000e+00   \n",
       "50%    3.224052e+06     2008.0  6.000000e+00  1.600000e+01  4.000000e+00   \n",
       "75%    4.921396e+06     2008.0  9.000000e+00  2.300000e+01  6.000000e+00   \n",
       "max    7.009718e+06     2008.0  1.200000e+01  3.100000e+01  7.000000e+00   \n",
       "\n",
       "            DepTime    CRSDepTime       ArrTime    CRSArrTime     FlightNum  \\\n",
       "count  1.247486e+06  1.247486e+06  1.247486e+06  1.247486e+06  1.247486e+06   \n",
       "mean   1.558832e+03  1.487949e+03  1.616749e+03  1.652458e+03  2.276526e+03   \n",
       "std    4.543300e+02  4.211782e+02  5.839416e+02  4.617372e+02  1.997547e+03   \n",
       "min    1.000000e+00  0.000000e+00  1.000000e+00  0.000000e+00  1.000000e+00   \n",
       "25%    1.232000e+03  1.150000e+03  1.326000e+03  1.340000e+03  6.370000e+02   \n",
       "50%    1.618000e+03  1.529000e+03  1.737000e+03  1.722000e+03  1.589000e+03   \n",
       "75%    1.924000e+03  1.830000e+03  2.048000e+03  2.022000e+03  3.676000e+03   \n",
       "max    2.400000e+03  2.359000e+03  2.400000e+03  2.359000e+03  9.741000e+03   \n",
       "\n",
       "       ...      Distance        TaxiIn       TaxiOut  Cancelled   Diverted  \\\n",
       "count  ...  1.247486e+06  1.247486e+06  1.247486e+06  1247486.0  1247486.0   \n",
       "mean   ...  7.415867e+02  7.297232e+00  2.066033e+01        0.0        0.0   \n",
       "std    ...  5.593643e+02  6.033239e+00  1.667983e+01        0.0        0.0   \n",
       "min    ...  1.100000e+01  0.000000e+00  0.000000e+00        0.0        0.0   \n",
       "25%    ...  3.340000e+02  4.000000e+00  1.100000e+01        0.0        0.0   \n",
       "50%    ...  5.950000e+02  6.000000e+00  1.600000e+01        0.0        0.0   \n",
       "75%    ...  9.720000e+02  8.000000e+00  2.400000e+01        0.0        0.0   \n",
       "max    ...  4.962000e+03  2.400000e+02  4.220000e+02        0.0        0.0   \n",
       "\n",
       "       CarrierDelay  WeatherDelay      NASDelay  SecurityDelay  \\\n",
       "count  1.247486e+06  1.247486e+06  1.247486e+06   1.247486e+06   \n",
       "mean   1.917943e+01  3.703355e+00  1.502162e+01   9.013728e-02   \n",
       "std    4.354624e+01  2.149153e+01  3.383308e+01   2.022716e+00   \n",
       "min    0.000000e+00  0.000000e+00  0.000000e+00   0.000000e+00   \n",
       "25%    0.000000e+00  0.000000e+00  0.000000e+00   0.000000e+00   \n",
       "50%    2.000000e+00  0.000000e+00  2.000000e+00   0.000000e+00   \n",
       "75%    2.100000e+01  0.000000e+00  1.500000e+01   0.000000e+00   \n",
       "max    2.436000e+03  1.352000e+03  1.357000e+03   3.920000e+02   \n",
       "\n",
       "       LateAircraftDelay  \n",
       "count       1.247486e+06  \n",
       "mean        2.529649e+01  \n",
       "std         4.205489e+01  \n",
       "min         0.000000e+00  \n",
       "25%         0.000000e+00  \n",
       "50%         8.000000e+00  \n",
       "75%         3.300000e+01  \n",
       "max         1.316000e+03  \n",
       "\n",
       "[8 rows x 25 columns]"
      ]
     },
     "execution_count": 4,
     "metadata": {},
     "output_type": "execute_result"
    }
   ],
   "source": [
    "delayedFlights.describe()"
   ]
  },
  {
   "cell_type": "code",
   "execution_count": 5,
   "id": "0f638e48",
   "metadata": {
    "ExecuteTime": {
     "end_time": "2022-07-02T14:13:25.847886Z",
     "start_time": "2022-07-02T14:13:25.834892Z"
    }
   },
   "outputs": [
    {
     "data": {
      "text/plain": [
       "Unnamed: 0             int64\n",
       "Year                   int64\n",
       "Month                  int64\n",
       "DayofMonth             int64\n",
       "DayOfWeek              int64\n",
       "DepTime              float64\n",
       "CRSDepTime             int64\n",
       "ArrTime              float64\n",
       "CRSArrTime             int64\n",
       "UniqueCarrier         object\n",
       "FlightNum              int64\n",
       "TailNum               object\n",
       "ActualElapsedTime    float64\n",
       "CRSElapsedTime       float64\n",
       "AirTime              float64\n",
       "ArrDelay             float64\n",
       "DepDelay             float64\n",
       "Origin                object\n",
       "Dest                  object\n",
       "Distance               int64\n",
       "TaxiIn               float64\n",
       "TaxiOut              float64\n",
       "Cancelled              int64\n",
       "CancellationCode      object\n",
       "Diverted               int64\n",
       "CarrierDelay         float64\n",
       "WeatherDelay         float64\n",
       "NASDelay             float64\n",
       "SecurityDelay        float64\n",
       "LateAircraftDelay    float64\n",
       "dtype: object"
      ]
     },
     "execution_count": 5,
     "metadata": {},
     "output_type": "execute_result"
    }
   ],
   "source": [
    "delayedFlights.dtypes"
   ]
  },
  {
   "cell_type": "code",
   "execution_count": 6,
   "id": "f21da51d",
   "metadata": {
    "ExecuteTime": {
     "end_time": "2022-07-02T14:13:25.911844Z",
     "start_time": "2022-07-02T14:13:25.849882Z"
    }
   },
   "outputs": [
    {
     "data": {
      "text/html": [
       "<div>\n",
       "<style scoped>\n",
       "    .dataframe tbody tr th:only-of-type {\n",
       "        vertical-align: middle;\n",
       "    }\n",
       "\n",
       "    .dataframe tbody tr th {\n",
       "        vertical-align: top;\n",
       "    }\n",
       "\n",
       "    .dataframe thead th {\n",
       "        text-align: right;\n",
       "    }\n",
       "</style>\n",
       "<table border=\"1\" class=\"dataframe\">\n",
       "  <thead>\n",
       "    <tr style=\"text-align: right;\">\n",
       "      <th></th>\n",
       "      <th>DepTime</th>\n",
       "      <th>ArrTime</th>\n",
       "      <th>ArrDelay</th>\n",
       "      <th>DepDelay</th>\n",
       "    </tr>\n",
       "  </thead>\n",
       "  <tbody>\n",
       "    <tr>\n",
       "      <th>3</th>\n",
       "      <td>1829.0</td>\n",
       "      <td>1959.0</td>\n",
       "      <td>34.0</td>\n",
       "      <td>34.0</td>\n",
       "    </tr>\n",
       "    <tr>\n",
       "      <th>5</th>\n",
       "      <td>1937.0</td>\n",
       "      <td>2037.0</td>\n",
       "      <td>57.0</td>\n",
       "      <td>67.0</td>\n",
       "    </tr>\n",
       "    <tr>\n",
       "      <th>7</th>\n",
       "      <td>1644.0</td>\n",
       "      <td>1845.0</td>\n",
       "      <td>80.0</td>\n",
       "      <td>94.0</td>\n",
       "    </tr>\n",
       "    <tr>\n",
       "      <th>9</th>\n",
       "      <td>1452.0</td>\n",
       "      <td>1640.0</td>\n",
       "      <td>15.0</td>\n",
       "      <td>27.0</td>\n",
       "    </tr>\n",
       "    <tr>\n",
       "      <th>11</th>\n",
       "      <td>1323.0</td>\n",
       "      <td>1526.0</td>\n",
       "      <td>16.0</td>\n",
       "      <td>28.0</td>\n",
       "    </tr>\n",
       "  </tbody>\n",
       "</table>\n",
       "</div>"
      ],
      "text/plain": [
       "    DepTime  ArrTime  ArrDelay  DepDelay\n",
       "3    1829.0   1959.0      34.0      34.0\n",
       "5    1937.0   2037.0      57.0      67.0\n",
       "7    1644.0   1845.0      80.0      94.0\n",
       "9    1452.0   1640.0      15.0      27.0\n",
       "11   1323.0   1526.0      16.0      28.0"
      ]
     },
     "execution_count": 6,
     "metadata": {},
     "output_type": "execute_result"
    }
   ],
   "source": [
    "# Em quedo només amb alguns atributs numèrics per empetitir una mica el dataset i que no em vagi tant lent l'ordinador\n",
    "numerics = delayedFlights.iloc[:,[5,7,15,16]]\n",
    "numerics.head()"
   ]
  },
  {
   "cell_type": "markdown",
   "id": "85046af1",
   "metadata": {},
   "source": [
    "Després de fer una mica de resum del dataset, comencem a fer l'exercici i dividim les dades en train i test."
   ]
  },
  {
   "cell_type": "code",
   "execution_count": 7,
   "id": "cb17c336",
   "metadata": {
    "ExecuteTime": {
     "end_time": "2022-07-02T14:13:26.479129Z",
     "start_time": "2022-07-02T14:13:25.914847Z"
    }
   },
   "outputs": [
    {
     "name": "stdout",
     "output_type": "stream",
     "text": [
      "(1247486, 2)\n",
      "(1247486, 2)\n"
     ]
    }
   ],
   "source": [
    "# Importem la llibreria necessària\n",
    "from sklearn.model_selection import train_test_split\n",
    "\n",
    "# dividim el conjunt de dades original en columnes d'entrada (X) i de sortida (y)\n",
    "\n",
    "X = numerics.iloc[:, [0,1]]\n",
    "y= numerics.iloc[:, [2,3]]\n",
    "print(X.shape)\n",
    "print(y.shape)\n",
    "\n",
    "# cridem a la funció passant ambdues matrius i les dividim adequadament en subconjunts de train i test. Especifiquem que volem la divisió de 67% train i 33% test\n",
    "X_train, X_test, y_train, y_test = train_test_split(X, y, test_size=0.33)\n"
   ]
  },
  {
   "cell_type": "code",
   "execution_count": 8,
   "id": "b2c361a2",
   "metadata": {
    "ExecuteTime": {
     "end_time": "2022-07-02T14:13:26.495118Z",
     "start_time": "2022-07-02T14:13:26.481127Z"
    }
   },
   "outputs": [
    {
     "data": {
      "text/plain": [
       "(835815, 2)"
      ]
     },
     "execution_count": 8,
     "metadata": {},
     "output_type": "execute_result"
    }
   ],
   "source": [
    "X_train.shape"
   ]
  },
  {
   "cell_type": "code",
   "execution_count": 9,
   "id": "f594c6c2",
   "metadata": {
    "ExecuteTime": {
     "end_time": "2022-07-02T14:13:26.542467Z",
     "start_time": "2022-07-02T14:13:26.503112Z"
    }
   },
   "outputs": [
    {
     "data": {
      "text/plain": [
       "(411671, 2)"
      ]
     },
     "execution_count": 9,
     "metadata": {},
     "output_type": "execute_result"
    }
   ],
   "source": [
    "X_test.shape"
   ]
  },
  {
   "cell_type": "code",
   "execution_count": 10,
   "id": "bf9a107e",
   "metadata": {
    "ExecuteTime": {
     "end_time": "2022-07-02T14:13:26.590483Z",
     "start_time": "2022-07-02T14:13:26.544470Z"
    }
   },
   "outputs": [
    {
     "data": {
      "text/plain": [
       "(835815, 2)"
      ]
     },
     "execution_count": 10,
     "metadata": {},
     "output_type": "execute_result"
    }
   ],
   "source": [
    "y_train.shape"
   ]
  },
  {
   "cell_type": "code",
   "execution_count": 11,
   "id": "5057dbbe",
   "metadata": {
    "ExecuteTime": {
     "end_time": "2022-07-02T14:13:26.606473Z",
     "start_time": "2022-07-02T14:13:26.592484Z"
    }
   },
   "outputs": [
    {
     "data": {
      "text/plain": [
       "(411671, 2)"
      ]
     },
     "execution_count": 11,
     "metadata": {},
     "output_type": "execute_result"
    }
   ],
   "source": [
    "y_test.shape"
   ]
  },
  {
   "cell_type": "markdown",
   "id": "311758da",
   "metadata": {},
   "source": [
    "Veiem com hem dividit les quatre columnes en dos grups (X,y) i aquests s'han dividit en train i en test, anant a la part de train el 66% dels valors, per això el shape és més gran mentres que al test hi han anat el 33% restant.\n",
    "Per què és important aquesta divisió? Perquè els valors de test MAI han passat pel train abans, per tant, no s'han tingut en compte i alhora de fer testos podriem dir que són \"purs\" per estudiar accions futures"
   ]
  },
  {
   "cell_type": "markdown",
   "id": "25cd206e",
   "metadata": {},
   "source": [
    "## NIVELL 2\n",
    "\n",
    "\n",
    "\n",
    "\n",
    "### Exercici 2\n",
    "Aplica algun procés de transformació (estandarditzar les dades numèriques, crear columnes dummies, polinomis...).\n",
    "\n"
   ]
  },
  {
   "cell_type": "code",
   "execution_count": 12,
   "id": "89c756cd",
   "metadata": {
    "ExecuteTime": {
     "end_time": "2022-07-02T14:13:26.622462Z",
     "start_time": "2022-07-02T14:13:26.608472Z"
    }
   },
   "outputs": [
    {
     "data": {
      "text/plain": [
       "Unnamed: 0             int64\n",
       "Year                   int64\n",
       "Month                  int64\n",
       "DayofMonth             int64\n",
       "DayOfWeek              int64\n",
       "DepTime              float64\n",
       "CRSDepTime             int64\n",
       "ArrTime              float64\n",
       "CRSArrTime             int64\n",
       "UniqueCarrier         object\n",
       "FlightNum              int64\n",
       "TailNum               object\n",
       "ActualElapsedTime    float64\n",
       "CRSElapsedTime       float64\n",
       "AirTime              float64\n",
       "ArrDelay             float64\n",
       "DepDelay             float64\n",
       "Origin                object\n",
       "Dest                  object\n",
       "Distance               int64\n",
       "TaxiIn               float64\n",
       "TaxiOut              float64\n",
       "Cancelled              int64\n",
       "CancellationCode      object\n",
       "Diverted               int64\n",
       "CarrierDelay         float64\n",
       "WeatherDelay         float64\n",
       "NASDelay             float64\n",
       "SecurityDelay        float64\n",
       "LateAircraftDelay    float64\n",
       "dtype: object"
      ]
     },
     "execution_count": 12,
     "metadata": {},
     "output_type": "execute_result"
    }
   ],
   "source": [
    "# Imprimeixo els tipus dels atributs per saber quins puc convertir en dummies\n",
    "delayedFlights.dtypes\n"
   ]
  },
  {
   "cell_type": "code",
   "execution_count": 13,
   "id": "c06c223d",
   "metadata": {
    "ExecuteTime": {
     "end_time": "2022-07-02T14:14:12.467576Z",
     "start_time": "2022-07-02T14:13:26.625461Z"
    }
   },
   "outputs": [
    {
     "name": "stdout",
     "output_type": "stream",
     "text": [
      "(1247486, 20)\n",
      "(1247486, 5349)\n",
      "(1247486, 302)\n",
      "(1247486, 301)\n",
      "(1247486, 1)\n"
     ]
    }
   ],
   "source": [
    "# Els que són de tipus object els converteixo en dummies\n",
    "dummieUniqueCarrier = pd.get_dummies(delayedFlights[\"UniqueCarrier\"])\n",
    "print(dummieUniqueCarrier.shape)\n",
    "dummieTailNum = pd.get_dummies(delayedFlights[\"TailNum\"])\n",
    "print(dummieTailNum.shape)\n",
    "dummieOrigin = pd.get_dummies(delayedFlights[\"Origin\"])\n",
    "print(dummieOrigin.shape)\n",
    "dummieDest = pd.get_dummies(delayedFlights[\"Dest\"])\n",
    "print(dummieDest.shape)\n",
    "dummieCancellationcode = pd.get_dummies(delayedFlights[\"CancellationCode\"])\n",
    "print(dummieCancellationcode.shape)\n"
   ]
  },
  {
   "cell_type": "code",
   "execution_count": 14,
   "id": "29779371",
   "metadata": {
    "ExecuteTime": {
     "end_time": "2022-07-02T14:14:13.352393Z",
     "start_time": "2022-07-02T14:14:12.469579Z"
    }
   },
   "outputs": [
    {
     "data": {
      "text/html": [
       "<div>\n",
       "<style scoped>\n",
       "    .dataframe tbody tr th:only-of-type {\n",
       "        vertical-align: middle;\n",
       "    }\n",
       "\n",
       "    .dataframe tbody tr th {\n",
       "        vertical-align: top;\n",
       "    }\n",
       "\n",
       "    .dataframe thead th {\n",
       "        text-align: right;\n",
       "    }\n",
       "</style>\n",
       "<table border=\"1\" class=\"dataframe\">\n",
       "  <thead>\n",
       "    <tr style=\"text-align: right;\">\n",
       "      <th></th>\n",
       "      <th>Unnamed: 0</th>\n",
       "      <th>Year</th>\n",
       "      <th>Month</th>\n",
       "      <th>DayofMonth</th>\n",
       "      <th>DayOfWeek</th>\n",
       "      <th>DepTime</th>\n",
       "      <th>CRSDepTime</th>\n",
       "      <th>ArrTime</th>\n",
       "      <th>CRSArrTime</th>\n",
       "      <th>UniqueCarrier</th>\n",
       "      <th>...</th>\n",
       "      <th>TYS</th>\n",
       "      <th>VLD</th>\n",
       "      <th>VPS</th>\n",
       "      <th>WRG</th>\n",
       "      <th>WYS</th>\n",
       "      <th>XNA</th>\n",
       "      <th>YAK</th>\n",
       "      <th>YKM</th>\n",
       "      <th>YUM</th>\n",
       "      <th>N</th>\n",
       "    </tr>\n",
       "  </thead>\n",
       "  <tbody>\n",
       "    <tr>\n",
       "      <th>3</th>\n",
       "      <td>4</td>\n",
       "      <td>2008</td>\n",
       "      <td>1</td>\n",
       "      <td>3</td>\n",
       "      <td>4</td>\n",
       "      <td>1829.0</td>\n",
       "      <td>1755</td>\n",
       "      <td>1959.0</td>\n",
       "      <td>1925</td>\n",
       "      <td>WN</td>\n",
       "      <td>...</td>\n",
       "      <td>0</td>\n",
       "      <td>0</td>\n",
       "      <td>0</td>\n",
       "      <td>0</td>\n",
       "      <td>0</td>\n",
       "      <td>0</td>\n",
       "      <td>0</td>\n",
       "      <td>0</td>\n",
       "      <td>0</td>\n",
       "      <td>1</td>\n",
       "    </tr>\n",
       "    <tr>\n",
       "      <th>5</th>\n",
       "      <td>6</td>\n",
       "      <td>2008</td>\n",
       "      <td>1</td>\n",
       "      <td>3</td>\n",
       "      <td>4</td>\n",
       "      <td>1937.0</td>\n",
       "      <td>1830</td>\n",
       "      <td>2037.0</td>\n",
       "      <td>1940</td>\n",
       "      <td>WN</td>\n",
       "      <td>...</td>\n",
       "      <td>0</td>\n",
       "      <td>0</td>\n",
       "      <td>0</td>\n",
       "      <td>0</td>\n",
       "      <td>0</td>\n",
       "      <td>0</td>\n",
       "      <td>0</td>\n",
       "      <td>0</td>\n",
       "      <td>0</td>\n",
       "      <td>1</td>\n",
       "    </tr>\n",
       "    <tr>\n",
       "      <th>7</th>\n",
       "      <td>11</td>\n",
       "      <td>2008</td>\n",
       "      <td>1</td>\n",
       "      <td>3</td>\n",
       "      <td>4</td>\n",
       "      <td>1644.0</td>\n",
       "      <td>1510</td>\n",
       "      <td>1845.0</td>\n",
       "      <td>1725</td>\n",
       "      <td>WN</td>\n",
       "      <td>...</td>\n",
       "      <td>0</td>\n",
       "      <td>0</td>\n",
       "      <td>0</td>\n",
       "      <td>0</td>\n",
       "      <td>0</td>\n",
       "      <td>0</td>\n",
       "      <td>0</td>\n",
       "      <td>0</td>\n",
       "      <td>0</td>\n",
       "      <td>1</td>\n",
       "    </tr>\n",
       "    <tr>\n",
       "      <th>9</th>\n",
       "      <td>16</td>\n",
       "      <td>2008</td>\n",
       "      <td>1</td>\n",
       "      <td>3</td>\n",
       "      <td>4</td>\n",
       "      <td>1452.0</td>\n",
       "      <td>1425</td>\n",
       "      <td>1640.0</td>\n",
       "      <td>1625</td>\n",
       "      <td>WN</td>\n",
       "      <td>...</td>\n",
       "      <td>0</td>\n",
       "      <td>0</td>\n",
       "      <td>0</td>\n",
       "      <td>0</td>\n",
       "      <td>0</td>\n",
       "      <td>0</td>\n",
       "      <td>0</td>\n",
       "      <td>0</td>\n",
       "      <td>0</td>\n",
       "      <td>1</td>\n",
       "    </tr>\n",
       "    <tr>\n",
       "      <th>11</th>\n",
       "      <td>18</td>\n",
       "      <td>2008</td>\n",
       "      <td>1</td>\n",
       "      <td>3</td>\n",
       "      <td>4</td>\n",
       "      <td>1323.0</td>\n",
       "      <td>1255</td>\n",
       "      <td>1526.0</td>\n",
       "      <td>1510</td>\n",
       "      <td>WN</td>\n",
       "      <td>...</td>\n",
       "      <td>0</td>\n",
       "      <td>0</td>\n",
       "      <td>0</td>\n",
       "      <td>0</td>\n",
       "      <td>0</td>\n",
       "      <td>0</td>\n",
       "      <td>0</td>\n",
       "      <td>0</td>\n",
       "      <td>0</td>\n",
       "      <td>1</td>\n",
       "    </tr>\n",
       "    <tr>\n",
       "      <th>...</th>\n",
       "      <td>...</td>\n",
       "      <td>...</td>\n",
       "      <td>...</td>\n",
       "      <td>...</td>\n",
       "      <td>...</td>\n",
       "      <td>...</td>\n",
       "      <td>...</td>\n",
       "      <td>...</td>\n",
       "      <td>...</td>\n",
       "      <td>...</td>\n",
       "      <td>...</td>\n",
       "      <td>...</td>\n",
       "      <td>...</td>\n",
       "      <td>...</td>\n",
       "      <td>...</td>\n",
       "      <td>...</td>\n",
       "      <td>...</td>\n",
       "      <td>...</td>\n",
       "      <td>...</td>\n",
       "      <td>...</td>\n",
       "      <td>...</td>\n",
       "    </tr>\n",
       "    <tr>\n",
       "      <th>1936751</th>\n",
       "      <td>7009705</td>\n",
       "      <td>2008</td>\n",
       "      <td>12</td>\n",
       "      <td>13</td>\n",
       "      <td>6</td>\n",
       "      <td>921.0</td>\n",
       "      <td>830</td>\n",
       "      <td>1112.0</td>\n",
       "      <td>1008</td>\n",
       "      <td>DL</td>\n",
       "      <td>...</td>\n",
       "      <td>0</td>\n",
       "      <td>0</td>\n",
       "      <td>0</td>\n",
       "      <td>0</td>\n",
       "      <td>0</td>\n",
       "      <td>0</td>\n",
       "      <td>0</td>\n",
       "      <td>0</td>\n",
       "      <td>0</td>\n",
       "      <td>1</td>\n",
       "    </tr>\n",
       "    <tr>\n",
       "      <th>1936752</th>\n",
       "      <td>7009709</td>\n",
       "      <td>2008</td>\n",
       "      <td>12</td>\n",
       "      <td>13</td>\n",
       "      <td>6</td>\n",
       "      <td>1552.0</td>\n",
       "      <td>1520</td>\n",
       "      <td>1735.0</td>\n",
       "      <td>1718</td>\n",
       "      <td>DL</td>\n",
       "      <td>...</td>\n",
       "      <td>0</td>\n",
       "      <td>0</td>\n",
       "      <td>0</td>\n",
       "      <td>0</td>\n",
       "      <td>0</td>\n",
       "      <td>0</td>\n",
       "      <td>0</td>\n",
       "      <td>0</td>\n",
       "      <td>0</td>\n",
       "      <td>1</td>\n",
       "    </tr>\n",
       "    <tr>\n",
       "      <th>1936753</th>\n",
       "      <td>7009710</td>\n",
       "      <td>2008</td>\n",
       "      <td>12</td>\n",
       "      <td>13</td>\n",
       "      <td>6</td>\n",
       "      <td>1250.0</td>\n",
       "      <td>1220</td>\n",
       "      <td>1617.0</td>\n",
       "      <td>1552</td>\n",
       "      <td>DL</td>\n",
       "      <td>...</td>\n",
       "      <td>0</td>\n",
       "      <td>0</td>\n",
       "      <td>0</td>\n",
       "      <td>0</td>\n",
       "      <td>0</td>\n",
       "      <td>0</td>\n",
       "      <td>0</td>\n",
       "      <td>0</td>\n",
       "      <td>0</td>\n",
       "      <td>1</td>\n",
       "    </tr>\n",
       "    <tr>\n",
       "      <th>1936754</th>\n",
       "      <td>7009717</td>\n",
       "      <td>2008</td>\n",
       "      <td>12</td>\n",
       "      <td>13</td>\n",
       "      <td>6</td>\n",
       "      <td>657.0</td>\n",
       "      <td>600</td>\n",
       "      <td>904.0</td>\n",
       "      <td>749</td>\n",
       "      <td>DL</td>\n",
       "      <td>...</td>\n",
       "      <td>0</td>\n",
       "      <td>0</td>\n",
       "      <td>0</td>\n",
       "      <td>0</td>\n",
       "      <td>0</td>\n",
       "      <td>0</td>\n",
       "      <td>0</td>\n",
       "      <td>0</td>\n",
       "      <td>0</td>\n",
       "      <td>1</td>\n",
       "    </tr>\n",
       "    <tr>\n",
       "      <th>1936755</th>\n",
       "      <td>7009718</td>\n",
       "      <td>2008</td>\n",
       "      <td>12</td>\n",
       "      <td>13</td>\n",
       "      <td>6</td>\n",
       "      <td>1007.0</td>\n",
       "      <td>847</td>\n",
       "      <td>1149.0</td>\n",
       "      <td>1010</td>\n",
       "      <td>DL</td>\n",
       "      <td>...</td>\n",
       "      <td>0</td>\n",
       "      <td>0</td>\n",
       "      <td>0</td>\n",
       "      <td>0</td>\n",
       "      <td>0</td>\n",
       "      <td>0</td>\n",
       "      <td>0</td>\n",
       "      <td>0</td>\n",
       "      <td>0</td>\n",
       "      <td>1</td>\n",
       "    </tr>\n",
       "  </tbody>\n",
       "</table>\n",
       "<p>1247486 rows × 654 columns</p>\n",
       "</div>"
      ],
      "text/plain": [
       "         Unnamed: 0  Year  Month  DayofMonth  DayOfWeek  DepTime  CRSDepTime  \\\n",
       "3                 4  2008      1           3          4   1829.0        1755   \n",
       "5                 6  2008      1           3          4   1937.0        1830   \n",
       "7                11  2008      1           3          4   1644.0        1510   \n",
       "9                16  2008      1           3          4   1452.0        1425   \n",
       "11               18  2008      1           3          4   1323.0        1255   \n",
       "...             ...   ...    ...         ...        ...      ...         ...   \n",
       "1936751     7009705  2008     12          13          6    921.0         830   \n",
       "1936752     7009709  2008     12          13          6   1552.0        1520   \n",
       "1936753     7009710  2008     12          13          6   1250.0        1220   \n",
       "1936754     7009717  2008     12          13          6    657.0         600   \n",
       "1936755     7009718  2008     12          13          6   1007.0         847   \n",
       "\n",
       "         ArrTime  CRSArrTime UniqueCarrier  ...  TYS VLD  VPS  WRG  WYS  XNA  \\\n",
       "3         1959.0        1925            WN  ...    0   0    0    0    0    0   \n",
       "5         2037.0        1940            WN  ...    0   0    0    0    0    0   \n",
       "7         1845.0        1725            WN  ...    0   0    0    0    0    0   \n",
       "9         1640.0        1625            WN  ...    0   0    0    0    0    0   \n",
       "11        1526.0        1510            WN  ...    0   0    0    0    0    0   \n",
       "...          ...         ...           ...  ...  ...  ..  ...  ...  ...  ...   \n",
       "1936751   1112.0        1008            DL  ...    0   0    0    0    0    0   \n",
       "1936752   1735.0        1718            DL  ...    0   0    0    0    0    0   \n",
       "1936753   1617.0        1552            DL  ...    0   0    0    0    0    0   \n",
       "1936754    904.0         749            DL  ...    0   0    0    0    0    0   \n",
       "1936755   1149.0        1010            DL  ...    0   0    0    0    0    0   \n",
       "\n",
       "         YAK YKM YUM  N  \n",
       "3          0   0   0  1  \n",
       "5          0   0   0  1  \n",
       "7          0   0   0  1  \n",
       "9          0   0   0  1  \n",
       "11         0   0   0  1  \n",
       "...      ...  ..  .. ..  \n",
       "1936751    0   0   0  1  \n",
       "1936752    0   0   0  1  \n",
       "1936753    0   0   0  1  \n",
       "1936754    0   0   0  1  \n",
       "1936755    0   0   0  1  \n",
       "\n",
       "[1247486 rows x 654 columns]"
      ]
     },
     "metadata": {},
     "output_type": "display_data"
    }
   ],
   "source": [
    "# concateno els dummies creats amb el dataset base excepte el dels TailNum, que em fa el dataset molt gran i se'm colapsa\n",
    "delayedFlightsDummies = pd.concat([delayedFlights, dummieUniqueCarrier, dummieOrigin, dummieDest, dummieCancellationcode], axis =1)\n",
    "display(delayedFlightsDummies)"
   ]
  },
  {
   "cell_type": "code",
   "execution_count": 15,
   "id": "41e7dfe9",
   "metadata": {
    "ExecuteTime": {
     "end_time": "2022-07-02T14:14:13.367522Z",
     "start_time": "2022-07-02T14:14:13.355392Z"
    }
   },
   "outputs": [
    {
     "name": "stdout",
     "output_type": "stream",
     "text": [
      "(1247486, 30)\n",
      "(1247486, 654)\n"
     ]
    }
   ],
   "source": [
    "print(delayedFlights.shape)\n",
    "print(delayedFlightsDummies.shape)"
   ]
  },
  {
   "cell_type": "markdown",
   "id": "3bff3bc1",
   "metadata": {},
   "source": [
    "Veiem com els atributs dummies s'han afegit al dataset original, provocant que ara en comptes de 30 columnes/atributs, en tinguem 654.\n",
    "Hauríem de veure quins ens serien favorables i quins no alhora d'estudiar-los.\n",
    "\n",
    "Ara agafaré 4 atributs numèrics i els normalitzaré amb robustscaler"
   ]
  },
  {
   "cell_type": "code",
   "execution_count": 16,
   "id": "8679d04a",
   "metadata": {
    "ExecuteTime": {
     "end_time": "2022-07-02T14:14:13.398057Z",
     "start_time": "2022-07-02T14:14:13.370518Z"
    }
   },
   "outputs": [
    {
     "name": "stdout",
     "output_type": "stream",
     "text": [
      "         DepTime  ArrTime  ArrDelay  DepDelay\n",
      "3         1829.0   1959.0      34.0      34.0\n",
      "5         1937.0   2037.0      57.0      67.0\n",
      "7         1644.0   1845.0      80.0      94.0\n",
      "9         1452.0   1640.0      15.0      27.0\n",
      "11        1323.0   1526.0      16.0      28.0\n",
      "...          ...      ...       ...       ...\n",
      "1936751    921.0   1112.0      64.0      51.0\n",
      "1936752   1552.0   1735.0      17.0      32.0\n",
      "1936753   1250.0   1617.0      25.0      30.0\n",
      "1936754    657.0    904.0      75.0      57.0\n",
      "1936755   1007.0   1149.0      99.0      80.0\n",
      "\n",
      "[1247486 rows x 4 columns]\n"
     ]
    }
   ],
   "source": [
    "# Utilitzo els 4 atributs numèrics que he fet servir al nivell 1\n",
    "print(numerics)"
   ]
  },
  {
   "cell_type": "code",
   "execution_count": 17,
   "id": "67355d2e",
   "metadata": {
    "ExecuteTime": {
     "end_time": "2022-07-02T14:14:13.847031Z",
     "start_time": "2022-07-02T14:14:13.401057Z"
    }
   },
   "outputs": [
    {
     "name": "stdout",
     "output_type": "stream",
     "text": [
      "            DepTime       ArrTime      ArrDelay      DepDelay\n",
      "count  1.247486e+06  1.247486e+06  1.247486e+06  1.247486e+06\n",
      "mean  -8.550300e-02 -1.665528e-01  3.828497e-01  3.662198e-01\n",
      "std    6.565463e-01  8.087834e-01  1.146298e+00  1.173898e+00\n",
      "min   -2.336705e+00 -2.404432e+00 -5.283019e-01 -6.862745e-01\n",
      "25%   -5.578035e-01 -5.692521e-01 -3.207547e-01 -3.333333e-01\n",
      "50%    0.000000e+00  0.000000e+00  0.000000e+00  0.000000e+00\n",
      "75%    4.421965e-01  4.307479e-01  6.792453e-01  6.666667e-01\n",
      "max    1.130058e+00  9.182825e-01  4.562264e+01  4.756863e+01\n",
      "[[ 0.30491329  0.30747922 -0.16981132 -0.1372549 ]\n",
      " [ 0.46098266  0.41551247  0.26415094  0.50980392]\n",
      " [ 0.03757225  0.14958449  0.69811321  1.03921569]\n",
      " ...\n",
      " [-0.53179191 -0.16620499 -0.33962264 -0.21568627]\n",
      " [-1.38872832 -1.15373961  0.60377358  0.31372549]\n",
      " [-0.88294798 -0.81440443  1.05660377  0.76470588]]\n"
     ]
    }
   ],
   "source": [
    "# Importo la llibreria necessaria\n",
    "from sklearn.preprocessing import RobustScaler\n",
    "\n",
    "# creem un robustScaler per treballar el dataset\n",
    "trans = RobustScaler()\n",
    "numericsRobust = trans.fit_transform(numerics)\n",
    "\n",
    "# convertim la array en un dataset\n",
    "numericsRobustDS = pd.DataFrame(numericsRobust)\n",
    "numericsRobustDS.columns=[\"DepTime\", \"ArrTime\", \"ArrDelay\", \"DepDelay\"]\n",
    "\n",
    "print(numericsRobustDS.describe())\n",
    "print(numericsRobust)"
   ]
  },
  {
   "cell_type": "markdown",
   "id": "dbd228fc",
   "metadata": {},
   "source": [
    "Veiem que els valors s'han ajustat al que li hem demanat, els valors de la mediana són 0 i la desviació estandard són propers a 1."
   ]
  },
  {
   "cell_type": "code",
   "execution_count": 18,
   "id": "46b87e45",
   "metadata": {
    "ExecuteTime": {
     "end_time": "2022-07-02T14:14:14.635071Z",
     "start_time": "2022-07-02T14:14:13.849292Z"
    }
   },
   "outputs": [
    {
     "data": {
      "text/plain": [
       "array([[<AxesSubplot:title={'center':'DepTime'}>,\n",
       "        <AxesSubplot:title={'center':'ArrTime'}>],\n",
       "       [<AxesSubplot:title={'center':'ArrDelay'}>,\n",
       "        <AxesSubplot:title={'center':'DepDelay'}>]], dtype=object)"
      ]
     },
     "execution_count": 18,
     "metadata": {},
     "output_type": "execute_result"
    },
    {
     "data": {
      "image/png": "[encoded data removed]",
      "text/plain": [
       "<Figure size 432x288 with 4 Axes>"
      ]
     },
     "metadata": {
      "needs_background": "light"
     },
     "output_type": "display_data"
    }
   ],
   "source": [
    "numerics.hist()"
   ]
  },
  {
   "cell_type": "code",
   "execution_count": 19,
   "id": "928a2d77",
   "metadata": {
    "ExecuteTime": {
     "end_time": "2022-07-02T14:14:15.437959Z",
     "start_time": "2022-07-02T14:14:14.638070Z"
    }
   },
   "outputs": [
    {
     "data": {
      "text/plain": [
       "array([[<AxesSubplot:title={'center':'DepTime'}>,\n",
       "        <AxesSubplot:title={'center':'ArrTime'}>],\n",
       "       [<AxesSubplot:title={'center':'ArrDelay'}>,\n",
       "        <AxesSubplot:title={'center':'DepDelay'}>]], dtype=object)"
      ]
     },
     "execution_count": 19,
     "metadata": {},
     "output_type": "execute_result"
    },
    {
     "data": {
      "image/png": "[encoded data removed]",
      "text/plain": [
       "<Figure size 432x288 with 4 Axes>"
      ]
     },
     "metadata": {
      "needs_background": "light"
     },
     "output_type": "display_data"
    }
   ],
   "source": [
    "numericsRobustDS.hist()"
   ]
  },
  {
   "cell_type": "markdown",
   "id": "53b71caf",
   "metadata": {},
   "source": [
    "## NIVELL 3\n",
    "\n",
    "\n",
    "### Exercici 3\n",
    "Resumeix les noves columnes generades de manera estadística i gràfica"
   ]
  },
  {
   "cell_type": "code",
   "execution_count": 20,
   "id": "5a2c840c",
   "metadata": {
    "ExecuteTime": {
     "end_time": "2022-07-02T14:14:34.018018Z",
     "start_time": "2022-07-02T14:14:15.440960Z"
    }
   },
   "outputs": [
    {
     "data": {
      "text/html": [
       "<div>\n",
       "<style scoped>\n",
       "    .dataframe tbody tr th:only-of-type {\n",
       "        vertical-align: middle;\n",
       "    }\n",
       "\n",
       "    .dataframe tbody tr th {\n",
       "        vertical-align: top;\n",
       "    }\n",
       "\n",
       "    .dataframe thead th {\n",
       "        text-align: right;\n",
       "    }\n",
       "</style>\n",
       "<table border=\"1\" class=\"dataframe\">\n",
       "  <thead>\n",
       "    <tr style=\"text-align: right;\">\n",
       "      <th></th>\n",
       "      <th>Unnamed: 0</th>\n",
       "      <th>Year</th>\n",
       "      <th>Month</th>\n",
       "      <th>DayofMonth</th>\n",
       "      <th>DayOfWeek</th>\n",
       "      <th>DepTime</th>\n",
       "      <th>CRSDepTime</th>\n",
       "      <th>ArrTime</th>\n",
       "      <th>CRSArrTime</th>\n",
       "      <th>FlightNum</th>\n",
       "      <th>...</th>\n",
       "      <th>TYS</th>\n",
       "      <th>VLD</th>\n",
       "      <th>VPS</th>\n",
       "      <th>WRG</th>\n",
       "      <th>WYS</th>\n",
       "      <th>XNA</th>\n",
       "      <th>YAK</th>\n",
       "      <th>YKM</th>\n",
       "      <th>YUM</th>\n",
       "      <th>N</th>\n",
       "    </tr>\n",
       "  </thead>\n",
       "  <tbody>\n",
       "    <tr>\n",
       "      <th>count</th>\n",
       "      <td>1.247486e+06</td>\n",
       "      <td>1247486.0</td>\n",
       "      <td>1.247486e+06</td>\n",
       "      <td>1.247486e+06</td>\n",
       "      <td>1.247486e+06</td>\n",
       "      <td>1.247486e+06</td>\n",
       "      <td>1.247486e+06</td>\n",
       "      <td>1.247486e+06</td>\n",
       "      <td>1.247486e+06</td>\n",
       "      <td>1.247486e+06</td>\n",
       "      <td>...</td>\n",
       "      <td>1.247486e+06</td>\n",
       "      <td>1.247486e+06</td>\n",
       "      <td>1.247486e+06</td>\n",
       "      <td>1.247486e+06</td>\n",
       "      <td>1.247486e+06</td>\n",
       "      <td>1.247486e+06</td>\n",
       "      <td>1.247486e+06</td>\n",
       "      <td>1.247486e+06</td>\n",
       "      <td>1.247486e+06</td>\n",
       "      <td>1247486.0</td>\n",
       "    </tr>\n",
       "    <tr>\n",
       "      <th>mean</th>\n",
       "      <td>3.319515e+06</td>\n",
       "      <td>2008.0</td>\n",
       "      <td>6.065399e+00</td>\n",
       "      <td>1.572542e+01</td>\n",
       "      <td>3.980082e+00</td>\n",
       "      <td>1.558832e+03</td>\n",
       "      <td>1.487949e+03</td>\n",
       "      <td>1.616749e+03</td>\n",
       "      <td>1.652458e+03</td>\n",
       "      <td>2.276526e+03</td>\n",
       "      <td>...</td>\n",
       "      <td>2.173171e-03</td>\n",
       "      <td>1.635289e-04</td>\n",
       "      <td>1.159131e-03</td>\n",
       "      <td>1.338692e-04</td>\n",
       "      <td>1.282580e-05</td>\n",
       "      <td>2.357541e-03</td>\n",
       "      <td>1.555128e-04</td>\n",
       "      <td>2.164353e-05</td>\n",
       "      <td>3.535110e-04</td>\n",
       "      <td>1.0</td>\n",
       "    </tr>\n",
       "    <tr>\n",
       "      <th>std</th>\n",
       "      <td>2.079531e+06</td>\n",
       "      <td>0.0</td>\n",
       "      <td>3.508937e+00</td>\n",
       "      <td>8.793008e+00</td>\n",
       "      <td>1.993270e+00</td>\n",
       "      <td>4.543300e+02</td>\n",
       "      <td>4.211782e+02</td>\n",
       "      <td>5.839416e+02</td>\n",
       "      <td>4.617372e+02</td>\n",
       "      <td>1.997547e+03</td>\n",
       "      <td>...</td>\n",
       "      <td>4.656662e-02</td>\n",
       "      <td>1.278680e-02</td>\n",
       "      <td>3.402629e-02</td>\n",
       "      <td>1.156942e-02</td>\n",
       "      <td>3.581290e-03</td>\n",
       "      <td>4.849727e-02</td>\n",
       "      <td>1.246951e-02</td>\n",
       "      <td>4.652212e-03</td>\n",
       "      <td>1.879857e-02</td>\n",
       "      <td>0.0</td>\n",
       "    </tr>\n",
       "    <tr>\n",
       "      <th>min</th>\n",
       "      <td>4.000000e+00</td>\n",
       "      <td>2008.0</td>\n",
       "      <td>1.000000e+00</td>\n",
       "      <td>1.000000e+00</td>\n",
       "      <td>1.000000e+00</td>\n",
       "      <td>1.000000e+00</td>\n",
       "      <td>0.000000e+00</td>\n",
       "      <td>1.000000e+00</td>\n",
       "      <td>0.000000e+00</td>\n",
       "      <td>1.000000e+00</td>\n",
       "      <td>...</td>\n",
       "      <td>0.000000e+00</td>\n",
       "      <td>0.000000e+00</td>\n",
       "      <td>0.000000e+00</td>\n",
       "      <td>0.000000e+00</td>\n",
       "      <td>0.000000e+00</td>\n",
       "      <td>0.000000e+00</td>\n",
       "      <td>0.000000e+00</td>\n",
       "      <td>0.000000e+00</td>\n",
       "      <td>0.000000e+00</td>\n",
       "      <td>1.0</td>\n",
       "    </tr>\n",
       "    <tr>\n",
       "      <th>25%</th>\n",
       "      <td>1.484624e+06</td>\n",
       "      <td>2008.0</td>\n",
       "      <td>3.000000e+00</td>\n",
       "      <td>8.000000e+00</td>\n",
       "      <td>2.000000e+00</td>\n",
       "      <td>1.232000e+03</td>\n",
       "      <td>1.150000e+03</td>\n",
       "      <td>1.326000e+03</td>\n",
       "      <td>1.340000e+03</td>\n",
       "      <td>6.370000e+02</td>\n",
       "      <td>...</td>\n",
       "      <td>0.000000e+00</td>\n",
       "      <td>0.000000e+00</td>\n",
       "      <td>0.000000e+00</td>\n",
       "      <td>0.000000e+00</td>\n",
       "      <td>0.000000e+00</td>\n",
       "      <td>0.000000e+00</td>\n",
       "      <td>0.000000e+00</td>\n",
       "      <td>0.000000e+00</td>\n",
       "      <td>0.000000e+00</td>\n",
       "      <td>1.0</td>\n",
       "    </tr>\n",
       "    <tr>\n",
       "      <th>50%</th>\n",
       "      <td>3.224052e+06</td>\n",
       "      <td>2008.0</td>\n",
       "      <td>6.000000e+00</td>\n",
       "      <td>1.600000e+01</td>\n",
       "      <td>4.000000e+00</td>\n",
       "      <td>1.618000e+03</td>\n",
       "      <td>1.529000e+03</td>\n",
       "      <td>1.737000e+03</td>\n",
       "      <td>1.722000e+03</td>\n",
       "      <td>1.589000e+03</td>\n",
       "      <td>...</td>\n",
       "      <td>0.000000e+00</td>\n",
       "      <td>0.000000e+00</td>\n",
       "      <td>0.000000e+00</td>\n",
       "      <td>0.000000e+00</td>\n",
       "      <td>0.000000e+00</td>\n",
       "      <td>0.000000e+00</td>\n",
       "      <td>0.000000e+00</td>\n",
       "      <td>0.000000e+00</td>\n",
       "      <td>0.000000e+00</td>\n",
       "      <td>1.0</td>\n",
       "    </tr>\n",
       "    <tr>\n",
       "      <th>75%</th>\n",
       "      <td>4.921396e+06</td>\n",
       "      <td>2008.0</td>\n",
       "      <td>9.000000e+00</td>\n",
       "      <td>2.300000e+01</td>\n",
       "      <td>6.000000e+00</td>\n",
       "      <td>1.924000e+03</td>\n",
       "      <td>1.830000e+03</td>\n",
       "      <td>2.048000e+03</td>\n",
       "      <td>2.022000e+03</td>\n",
       "      <td>3.676000e+03</td>\n",
       "      <td>...</td>\n",
       "      <td>0.000000e+00</td>\n",
       "      <td>0.000000e+00</td>\n",
       "      <td>0.000000e+00</td>\n",
       "      <td>0.000000e+00</td>\n",
       "      <td>0.000000e+00</td>\n",
       "      <td>0.000000e+00</td>\n",
       "      <td>0.000000e+00</td>\n",
       "      <td>0.000000e+00</td>\n",
       "      <td>0.000000e+00</td>\n",
       "      <td>1.0</td>\n",
       "    </tr>\n",
       "    <tr>\n",
       "      <th>max</th>\n",
       "      <td>7.009718e+06</td>\n",
       "      <td>2008.0</td>\n",
       "      <td>1.200000e+01</td>\n",
       "      <td>3.100000e+01</td>\n",
       "      <td>7.000000e+00</td>\n",
       "      <td>2.400000e+03</td>\n",
       "      <td>2.359000e+03</td>\n",
       "      <td>2.400000e+03</td>\n",
       "      <td>2.359000e+03</td>\n",
       "      <td>9.741000e+03</td>\n",
       "      <td>...</td>\n",
       "      <td>1.000000e+00</td>\n",
       "      <td>1.000000e+00</td>\n",
       "      <td>1.000000e+00</td>\n",
       "      <td>1.000000e+00</td>\n",
       "      <td>1.000000e+00</td>\n",
       "      <td>1.000000e+00</td>\n",
       "      <td>1.000000e+00</td>\n",
       "      <td>1.000000e+00</td>\n",
       "      <td>1.000000e+00</td>\n",
       "      <td>1.0</td>\n",
       "    </tr>\n",
       "  </tbody>\n",
       "</table>\n",
       "<p>8 rows × 649 columns</p>\n",
       "</div>"
      ],
      "text/plain": [
       "         Unnamed: 0       Year         Month    DayofMonth     DayOfWeek  \\\n",
       "count  1.247486e+06  1247486.0  1.247486e+06  1.247486e+06  1.247486e+06   \n",
       "mean   3.319515e+06     2008.0  6.065399e+00  1.572542e+01  3.980082e+00   \n",
       "std    2.079531e+06        0.0  3.508937e+00  8.793008e+00  1.993270e+00   \n",
       "min    4.000000e+00     2008.0  1.000000e+00  1.000000e+00  1.000000e+00   \n",
       "25%    1.484624e+06     2008.0  3.000000e+00  8.000000e+00  2.000000e+00   \n",
       "50%    3.224052e+06     2008.0  6.000000e+00  1.600000e+01  4.000000e+00   \n",
       "75%    4.921396e+06     2008.0  9.000000e+00  2.300000e+01  6.000000e+00   \n",
       "max    7.009718e+06     2008.0  1.200000e+01  3.100000e+01  7.000000e+00   \n",
       "\n",
       "            DepTime    CRSDepTime       ArrTime    CRSArrTime     FlightNum  \\\n",
       "count  1.247486e+06  1.247486e+06  1.247486e+06  1.247486e+06  1.247486e+06   \n",
       "mean   1.558832e+03  1.487949e+03  1.616749e+03  1.652458e+03  2.276526e+03   \n",
       "std    4.543300e+02  4.211782e+02  5.839416e+02  4.617372e+02  1.997547e+03   \n",
       "min    1.000000e+00  0.000000e+00  1.000000e+00  0.000000e+00  1.000000e+00   \n",
       "25%    1.232000e+03  1.150000e+03  1.326000e+03  1.340000e+03  6.370000e+02   \n",
       "50%    1.618000e+03  1.529000e+03  1.737000e+03  1.722000e+03  1.589000e+03   \n",
       "75%    1.924000e+03  1.830000e+03  2.048000e+03  2.022000e+03  3.676000e+03   \n",
       "max    2.400000e+03  2.359000e+03  2.400000e+03  2.359000e+03  9.741000e+03   \n",
       "\n",
       "       ...           TYS           VLD           VPS           WRG  \\\n",
       "count  ...  1.247486e+06  1.247486e+06  1.247486e+06  1.247486e+06   \n",
       "mean   ...  2.173171e-03  1.635289e-04  1.159131e-03  1.338692e-04   \n",
       "std    ...  4.656662e-02  1.278680e-02  3.402629e-02  1.156942e-02   \n",
       "min    ...  0.000000e+00  0.000000e+00  0.000000e+00  0.000000e+00   \n",
       "25%    ...  0.000000e+00  0.000000e+00  0.000000e+00  0.000000e+00   \n",
       "50%    ...  0.000000e+00  0.000000e+00  0.000000e+00  0.000000e+00   \n",
       "75%    ...  0.000000e+00  0.000000e+00  0.000000e+00  0.000000e+00   \n",
       "max    ...  1.000000e+00  1.000000e+00  1.000000e+00  1.000000e+00   \n",
       "\n",
       "                WYS           XNA           YAK           YKM           YUM  \\\n",
       "count  1.247486e+06  1.247486e+06  1.247486e+06  1.247486e+06  1.247486e+06   \n",
       "mean   1.282580e-05  2.357541e-03  1.555128e-04  2.164353e-05  3.535110e-04   \n",
       "std    3.581290e-03  4.849727e-02  1.246951e-02  4.652212e-03  1.879857e-02   \n",
       "min    0.000000e+00  0.000000e+00  0.000000e+00  0.000000e+00  0.000000e+00   \n",
       "25%    0.000000e+00  0.000000e+00  0.000000e+00  0.000000e+00  0.000000e+00   \n",
       "50%    0.000000e+00  0.000000e+00  0.000000e+00  0.000000e+00  0.000000e+00   \n",
       "75%    0.000000e+00  0.000000e+00  0.000000e+00  0.000000e+00  0.000000e+00   \n",
       "max    1.000000e+00  1.000000e+00  1.000000e+00  1.000000e+00  1.000000e+00   \n",
       "\n",
       "               N  \n",
       "count  1247486.0  \n",
       "mean         1.0  \n",
       "std          0.0  \n",
       "min          1.0  \n",
       "25%          1.0  \n",
       "50%          1.0  \n",
       "75%          1.0  \n",
       "max          1.0  \n",
       "\n",
       "[8 rows x 649 columns]"
      ]
     },
     "execution_count": 20,
     "metadata": {},
     "output_type": "execute_result"
    }
   ],
   "source": [
    "delayedFlightsDummies.describe()"
   ]
  },
  {
   "cell_type": "code",
   "execution_count": 21,
   "id": "2fd9baa8",
   "metadata": {
    "ExecuteTime": {
     "end_time": "2022-07-02T14:14:34.034134Z",
     "start_time": "2022-07-02T14:14:34.021143Z"
    }
   },
   "outputs": [
    {
     "data": {
      "text/plain": [
       "Unnamed: 0    int64\n",
       "Year          int64\n",
       "Month         int64\n",
       "DayofMonth    int64\n",
       "DayOfWeek     int64\n",
       "              ...  \n",
       "XNA           uint8\n",
       "YAK           uint8\n",
       "YKM           uint8\n",
       "YUM           uint8\n",
       "N             uint8\n",
       "Length: 654, dtype: object"
      ]
     },
     "execution_count": 21,
     "metadata": {},
     "output_type": "execute_result"
    }
   ],
   "source": [
    "delayedFlightsDummies.dtypes"
   ]
  },
  {
   "cell_type": "code",
   "execution_count": 22,
   "id": "9e67abb2",
   "metadata": {
    "ExecuteTime": {
     "end_time": "2022-07-02T14:14:34.433887Z",
     "start_time": "2022-07-02T14:14:34.037132Z"
    }
   },
   "outputs": [
    {
     "data": {
      "text/plain": [
       "array([[<AxesSubplot:title={'center':'ArrDelay'}>,\n",
       "        <AxesSubplot:title={'center':'DepDelay'}>]], dtype=object)"
      ]
     },
     "execution_count": 22,
     "metadata": {},
     "output_type": "execute_result"
    },
    {
     "data": {
      "image/png": "[encoded data removed]",
      "text/plain": [
       "<Figure size 432x288 with 2 Axes>"
      ]
     },
     "metadata": {
      "needs_background": "light"
     },
     "output_type": "display_data"
    }
   ],
   "source": [
    "y_test.hist()"
   ]
  },
  {
   "cell_type": "code",
   "execution_count": 23,
   "id": "59c0517e",
   "metadata": {
    "ExecuteTime": {
     "end_time": "2022-07-02T14:14:34.814457Z",
     "start_time": "2022-07-02T14:14:34.435888Z"
    }
   },
   "outputs": [
    {
     "data": {
      "text/plain": [
       "array([[<AxesSubplot:title={'center':'ArrDelay'}>,\n",
       "        <AxesSubplot:title={'center':'DepDelay'}>]], dtype=object)"
      ]
     },
     "execution_count": 23,
     "metadata": {},
     "output_type": "execute_result"
    },
    {
     "data": {
      "image/png": "[encoded data removed]",
      "text/plain": [
       "<Figure size 432x288 with 2 Axes>"
      ]
     },
     "metadata": {
      "needs_background": "light"
     },
     "output_type": "display_data"
    }
   ],
   "source": [
    "y_train.hist()"
   ]
  },
  {
   "cell_type": "code",
   "execution_count": 24,
   "id": "e4a30a47",
   "metadata": {
    "ExecuteTime": {
     "end_time": "2022-07-02T14:14:35.164242Z",
     "start_time": "2022-07-02T14:14:34.816455Z"
    }
   },
   "outputs": [
    {
     "data": {
      "text/plain": [
       "array([[<AxesSubplot:title={'center':'DepTime'}>,\n",
       "        <AxesSubplot:title={'center':'ArrTime'}>]], dtype=object)"
      ]
     },
     "execution_count": 24,
     "metadata": {},
     "output_type": "execute_result"
    },
    {
     "data": {
      "image/png": "[encoded data removed]",
      "text/plain": [
       "<Figure size 432x288 with 2 Axes>"
      ]
     },
     "metadata": {
      "needs_background": "light"
     },
     "output_type": "display_data"
    }
   ],
   "source": [
    "X_test.hist()"
   ]
  },
  {
   "cell_type": "code",
   "execution_count": 25,
   "id": "5af3eb14",
   "metadata": {
    "ExecuteTime": {
     "end_time": "2022-07-02T14:14:35.543005Z",
     "start_time": "2022-07-02T14:14:35.166237Z"
    }
   },
   "outputs": [
    {
     "data": {
      "text/plain": [
       "array([[<AxesSubplot:title={'center':'DepTime'}>,\n",
       "        <AxesSubplot:title={'center':'ArrTime'}>]], dtype=object)"
      ]
     },
     "execution_count": 25,
     "metadata": {},
     "output_type": "execute_result"
    },
    {
     "data": {
      "image/png": "[encoded data removed]",
      "text/plain": [
       "<Figure size 432x288 with 2 Axes>"
      ]
     },
     "metadata": {
      "needs_background": "light"
     },
     "output_type": "display_data"
    }
   ],
   "source": [
    "X_train.hist()"
   ]
  },
  {
   "cell_type": "code",
   "execution_count": null,
   "id": "f717ca0c",
   "metadata": {},
   "outputs": [],
   "source": []
  }
 ],
 "metadata": {
  "hide_input": false,
  "kernelspec": {
   "display_name": "Python 3 (ipykernel)",
   "language": "python",
   "name": "python3"
  },
  "language_info": {
   "codemirror_mode": {
    "name": "ipython",
    "version": 3
   },
   "file_extension": ".py",
   "mimetype": "text/x-python",
   "name": "python",
   "nbconvert_exporter": "python",
   "pygments_lexer": "ipython3",
   "version": "3.9.7"
  },
  "latex_envs": {
   "LaTeX_envs_menu_present": true,
   "autoclose": false,
   "autocomplete": true,
   "bibliofile": "biblio.bib",
   "cite_by": "apalike",
   "current_citInitial": 1,
   "eqLabelWithNumbers": true,
   "eqNumInitial": 1,
   "hotkeys": {
    "equation": "Ctrl-E",
    "itemize": "Ctrl-I"
   },
   "labels_anchors": false,
   "latex_user_defs": false,
   "report_style_numbering": false,
   "user_envs_cfg": false
  },
  "toc": {
   "base_numbering": 1,
   "nav_menu": {},
   "number_sections": true,
   "sideBar": true,
   "skip_h1_title": false,
   "title_cell": "Table of Contents",
   "title_sidebar": "Contents",
   "toc_cell": false,
   "toc_position": {},
   "toc_section_display": true,
   "toc_window_display": false
  },
  "varInspector": {
   "cols": {
    "lenName": 16,
    "lenType": 16,
    "lenVar": 40
   },
   "kernels_config": {
    "python": {
     "delete_cmd_postfix": "",
     "delete_cmd_prefix": "del ",
     "library": "var_list.py",
     "varRefreshCmd": "print(var_dic_list())"
    },
    "r": {
     "delete_cmd_postfix": ") ",
     "delete_cmd_prefix": "rm(",
     "library": "var_list.r",
     "varRefreshCmd": "cat(var_dic_list()) "
    }
   },
   "types_to_exclude": [
    "module",
    "function",
    "builtin_function_or_method",
    "instance",
    "_Feature"
   ],
   "window_display": false
  }
 },
 "nbformat": 4,
 "nbformat_minor": 5
}
